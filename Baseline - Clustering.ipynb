{
 "cells": [
  {
   "cell_type": "code",
   "execution_count": null,
   "metadata": {},
   "outputs": [],
   "source": [
    "import sys\n",
    "import argparse\n",
    "import os\n",
    "import numpy as np\n",
    "from skimage.util import view_as_windows\n",
    "from utilities.config_handler import get_config\n",
    "from utilities.learning import split_train_validation, train_model, predict_ae_error_vectors\n",
    "from utilities.detection import detect_reconstruction_anomalies_median,plot_spectogram_anomalies\n",
    "from utilities.preprocessing import  add_noise,load_fft_test_data ,load_fft_train_data,  reshape_to_blocks,persist_object\\\n",
    "    ,load_object,persist_val_stat, load_val_stat ,get_xhdr_sample_rate\n",
    "import matplotlib.pyplot as plt\n",
    "from sklearn import mixture\n",
    "from scipy.stats import entropy\n",
    "%matplotlib inline"
   ]
  },
  {
   "cell_type": "code",
   "execution_count": null,
   "metadata": {},
   "outputs": [],
   "source": [
    "parser = argparse.ArgumentParser()\n",
    "parser.prog = 'Spectrum Anomaly Detection'\n",
    "parser.description = 'Use this command parser for training or testing the anomaly detector'\n",
    "parser.add_argument('-m', '--mode', help='train or test mode', choices=['train', 'test'])\n",
    "parser.add_argument('-d', '--data-dir', help='I/Q recording directory')\n",
    "parser.add_argument('-w', '--weights-path', help='path for trained weights')\n",
    "\n",
    "\n",
    "sys.argv = \"-m train -d iq_data/CELL/normal/CELL_NORM_1 -w model/baseline_clustering\".split()\n",
    "namespace = parser.parse_args(sys.argv)\n",
    "if not namespace.data_dir and namespace.mode == 'train':\n",
    "    parser.error('the -d arg must be present when mode is train')\n",
    "if not namespace.weights_path and namespace.mode == 'train':\n",
    "    parser.error('the -w arg must be present when mode is train')\n",
    "\n",
    "if not namespace.data_dir and namespace.mode == 'test':\n",
    "    parser.error('the -d arg must be present when mode is test')\n",
    "if not namespace.weights_path and namespace.mode == 'test':\n",
    "    parser.error('the -w arg must be present when mode is test')"
   ]
  },
  {
   "cell_type": "markdown",
   "metadata": {},
   "source": [
    "# Hyper parameters"
   ]
  },
  {
   "cell_type": "code",
   "execution_count": null,
   "metadata": {},
   "outputs": [],
   "source": [
    "conf=get_config()\n",
    "gpus = conf['gpus']\n",
    "lr=conf['learning']['ae']['lr']\n",
    "validation_split = conf['learning']['ae']['validation_split']\n",
    "train_params = conf['learning']['ae']\n",
    "rbw_set = conf['preprocessing']['ae']['rbw_set']\n",
    "feature_names = conf['preprocessing']['ae']['feature_names']\n",
    "train = namespace.mode == 'train'\n",
    "\n",
    "data_dir = namespace.data_dir\n",
    "\n",
    "atom_height = 1\n",
    "num_clusters = 500\n",
    "f_s = get_xhdr_sample_rate(data_dir)\n",
    "test_window_time = 10e-6\n",
    "cv_types = ['diag']"
   ]
  },
  {
   "cell_type": "code",
   "execution_count": null,
   "metadata": {},
   "outputs": [],
   "source": [
    "def split_spectogram_to_atoms(spectogram,atom_height,stride=1):\n",
    "    window_shape = (atom_height , spectogram.shape[1])\n",
    "    return view_as_windows(spectogram,window_shape,step=stride).reshape(-1,*window_shape)"
   ]
  },
  {
   "cell_type": "code",
   "execution_count": null,
   "metadata": {},
   "outputs": [],
   "source": [
    "def split_spectogram_by_fraction(spectogram,frac):\n",
    "    return spectogram[:int(frac*len(spectogram))]"
   ]
  },
  {
   "cell_type": "code",
   "execution_count": null,
   "metadata": {},
   "outputs": [],
   "source": [
    "def fit_gmm(data,num_clusters,cv_types):\n",
    "    lowest_bic = np.infty\n",
    "    bic = []\n",
    "    best_component=''\n",
    "    best_cv=''\n",
    "    best_gmm={}\n",
    "    n_components_range = np.arange(2, num_clusters,20) # specifying maximum number of clusters\n",
    "    for cv_type in cv_types:\n",
    "        for n_components in n_components_range:\n",
    "            # Fit a mixture of Gaussians with EM\n",
    "            gmm = mixture.GaussianMixture(n_components=num_clusters, covariance_type=cv_type,verbose=2)\n",
    "            gmm.fit(data)\n",
    "            bic.append(gmm.bic(data))\n",
    "            if bic[-1] < lowest_bic:\n",
    "                lowest_bic = bic[-1]\n",
    "                best_component = n_components\n",
    "                best_cv = cv_type\n",
    "                best_gmm = gmm\n",
    "                print(best_cv)\n",
    "                print(lowest_bic)\n",
    "    print(\"best n_component {}\".format(best_component))\n",
    "    print(\"best gmm type {}\".format(best_cv))\n",
    "    return best_gmm\n"
   ]
  },
  {
   "cell_type": "code",
   "execution_count": null,
   "metadata": {},
   "outputs": [],
   "source": [
    "assert len(data_dir) != 0\n",
    "dataset_name = str.split(data_dir, '/')[-2]\n",
    "if train:\n",
    "    for rbw in rbw_set:\n",
    "        weights_dir = \"_\".join((dataset_name, str(rbw)))\n",
    "        weights_path = os.path.join(namespace.weights_path, weights_dir)\n",
    "        fft_train = load_fft_train_data(data_dir, rbw, weights_path)\n",
    "        fft_train = split_spectogram_by_fraction(fft_train,0.05)\n",
    "        print(len(fft_train))\n",
    "        atom_fft_train = split_spectogram_to_atoms(fft_train,atom_height)\n",
    "        atom_fft_train = atom_fft_train.reshape(len(atom_fft_train),-1)\n",
    "        gmm = mixture.GaussianMixture(n_components=num_clusters, covariance_type='diag',verbose=2)\n",
    "        gmm.fit(atom_fft_train)\n",
    "#         gmm = fit_gmm(atom_fft_train,num_clusters,cv_types)\n",
    "        train_log_likelihood = gmm.score_samples(atom_fft_train)\n",
    "        window_shape = (atom_height , atom_fft_train.shape[1] // atom_height)\n",
    "        persist_object(gmm,os.path.join(weights_path,'gmm.pkl'))\n",
    "        \n",
    "else:\n",
    "    \n",
    "    for rbw in rbw_set:\n",
    "        weights_dir = \"_\".join((dataset_name, str(rbw)))\n",
    "        weights_load_path = os.path.join(namespace.weights_path, weights_dir)\n",
    "        freqs_test, time_test, fft_test = load_fft_test_data(data_dir, rbw, weights_load_path)\n",
    "        \n",
    "        fft_test = split_spectogram_by_fraction(fft_test,0.05)\n",
    "        atom_fft_test = split_spectogram_to_atoms(fft_test,atom_height)\n",
    "        flatten_atom_fft_test = atom_fft_test.reshape(len(atom_fft_test),-1)\n",
    "        gmm = load_object(os.path.join(weights_load_path,'gmm.pkl'))\n",
    "        window_shape = (atom_height , atom_fft_test.shape[1] // atom_height)\n",
    "        test_log_likelihood = gmm.score_samples(flatten_atom_fft_test)"
   ]
  },
  {
   "cell_type": "code",
   "execution_count": null,
   "metadata": {},
   "outputs": [],
   "source": [
    "window_shape = (atom_height , atom_fft_test.shape[1] // atom_height)"
   ]
  },
  {
   "cell_type": "code",
   "execution_count": null,
   "metadata": {},
   "outputs": [],
   "source": [
    "score_spectogram = np.ones_like(atom_fft_test)"
   ]
  },
  {
   "cell_type": "code",
   "execution_count": null,
   "metadata": {},
   "outputs": [],
   "source": [
    "for (i,score) in enumerate(test_log_likelihood):\n",
    "    sample_score_windows = np.ones((window_shape))*score\n",
    "    score_spectogram[i*atom_height : (i+1)*atom_height ,:,:] = sample_score_windows"
   ]
  },
  {
   "cell_type": "code",
   "execution_count": null,
   "metadata": {},
   "outputs": [],
   "source": [
    "score_spectogram = score_spectogram.reshape((len(score_spectogram),-1))"
   ]
  },
  {
   "cell_type": "code",
   "execution_count": null,
   "metadata": {},
   "outputs": [],
   "source": [
    "plt.plot(test_log_likelihood)"
   ]
  },
  {
   "cell_type": "code",
   "execution_count": null,
   "metadata": {},
   "outputs": [],
   "source": [
    "fig = plt.figure(figsize=(20, 20))\n",
    "plt.imshow(score_spectogram,aspect='auto',cmap='rainbow')"
   ]
  },
  {
   "cell_type": "code",
   "execution_count": null,
   "metadata": {},
   "outputs": [],
   "source": [
    "fig = plt.figure(figsize=(20, 20))\n",
    "plt.imshow(fft_test,aspect='auto')"
   ]
  },
  {
   "cell_type": "code",
   "execution_count": null,
   "metadata": {},
   "outputs": [],
   "source": []
  }
 ],
 "metadata": {
  "kernelspec": {
   "display_name": "Python 3",
   "language": "python",
   "name": "python3"
  },
  "language_info": {
   "codemirror_mode": {
    "name": "ipython",
    "version": 3
   },
   "file_extension": ".py",
   "mimetype": "text/x-python",
   "name": "python",
   "nbconvert_exporter": "python",
   "pygments_lexer": "ipython3",
   "version": "3.5.2"
  }
 },
 "nbformat": 4,
 "nbformat_minor": 2
}
