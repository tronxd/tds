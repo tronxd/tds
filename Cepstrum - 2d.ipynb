{
 "cells": [
  {
   "cell_type": "code",
   "execution_count": 1,
   "metadata": {},
   "outputs": [
    {
     "name": "stderr",
     "output_type": "stream",
     "text": [
      "Using TensorFlow backend.\n"
     ]
    }
   ],
   "source": [
    "import sys\n",
    "import argparse\n",
    "import os\n",
    "import numpy as np\n",
    "from scipy.signal import get_window\n",
    "from skimage.util import view_as_windows\n",
    "from utilities.config_handler import get_config\n",
    "from utilities.visualization import plot_spectogram\n",
    "from utilities.learning import split_train_validation, train_model, predict_ae_error_vectors\n",
    "from utilities.detection import detect_reconstruction_anomalies_median,plot_spectogram_anomalies\n",
    "from utilities.preprocessing import  add_noise,load_fft_test_data ,load_fft_train_data,  reshape_to_blocks,persist_object\\\n",
    "    ,load_object,persist_val_stat, load_val_stat ,get_xhdr_sample_rate , compute_fft_train_data , load_raw_data , compute_fft_train_data \\\n",
    ", compute_fft_test_data,trim_iq_basic_block, complex2power\n",
    "import matplotlib.pyplot as plt\n",
    "from sklearn import mixture\n",
    "from sklearn.cluster import MiniBatchKMeans, KMeans\n",
    "from sklearn.metrics.pairwise import pairwise_distances_argmin_min\n",
    "from scipy.stats import entropy\n",
    "from scipy.signal import welch,detrend\n",
    "from scipy.fftpack import fft,rfft,fftshift,fft2\n",
    "%matplotlib inline"
   ]
  },
  {
   "cell_type": "code",
   "execution_count": 2,
   "metadata": {},
   "outputs": [],
   "source": [
    "normal_records = ['CELL_NORM_2', 'CELL_NORM_3', 'CELL_NORM_4']\n",
    "anomal_records = ['CELL_SWP_18MHz_50us_0dB', \\\n",
    "          'CELL_SWP_18MHz_50us_10dB', 'CELL_SWP_18MHz_100us_0dB', 'CELL_SWP_18MHz_100us_10dB',\n",
    "                 'CELL_SWP_45MHz_20us_0dB','CELL_SWP_45MHz_20us_10dB']\n",
    "\n",
    "normal_path='iq_data/CELL/normal'\n",
    "anomal_path='iq_data/CELL/anomal'"
   ]
  },
  {
   "cell_type": "code",
   "execution_count": 3,
   "metadata": {},
   "outputs": [],
   "source": [
    "parser = argparse.ArgumentParser()\n",
    "parser.prog = 'Spectrum Anomaly Detection'\n",
    "parser.description = 'Use this command parser for training or testing the anomaly detector'\n",
    "parser.add_argument('-m', '--mode', help='train or test mode', choices=['train', 'test'])\n",
    "parser.add_argument('-d', '--data-dir', help='I/Q recording directory',nargs='?')\n",
    "parser.add_argument('-w', '--weights-path', help='path for trained weights')\n",
    "\n",
    "\n",
    "# sys.argv = \"-m test -d -w model/baseline_cepstrum\".split()\n",
    "# sys.argv = \"-m test -d iq_data/CELL/anomal/CELL_SWP_18MHz_50us_10dB -w model/baseline_cepstrum\".split()\n",
    "sys.argv = \"-m train -d iq_data/CELL/normal/CELL_NORM_0 -w model/baseline_cepstrum\".split()\n",
    "\n",
    "namespace = parser.parse_args(sys.argv)\n",
    "if not namespace.data_dir and namespace.mode == 'train':\n",
    "    parser.error('the -d arg must be present when mode is train')\n",
    "if not namespace.weights_path and namespace.mode == 'train':\n",
    "    parser.error('the -w arg must be present when mode is train')\n",
    "\n",
    "# if not namespace.data_dir and namespace.mode == 'test':\n",
    "#     parser.error('the -d arg must be present when mode is test')\n",
    "\n",
    "if not namespace.weights_path and namespace.mode == 'test':\n",
    "    parser.error('the -w arg must be present when mode is test')\n",
    "    \n",
    "train = namespace.mode == 'train'"
   ]
  },
  {
   "cell_type": "code",
   "execution_count": 4,
   "metadata": {},
   "outputs": [],
   "source": [
    "conf=get_config()\n",
    "gpus = conf['gpus']\n",
    "lr=conf['learning']['ae']['lr']\n",
    "validation_split = conf['learning']['ae']['validation_split']\n",
    "train_params = conf['learning']['ae']\n",
    "rbw_set = conf['preprocessing']['ae']['rbw_set']\n",
    "feature_names = conf['preprocessing']['ae']['feature_names']\n",
    "fft_window_name = conf['preprocessing']['ae']['window']\n",
    "basic_block_interval = conf['preprocessing']['basic_time']\n",
    "\n",
    "\n",
    "median_kernel_size = 11\n",
    "cepstrum_window_size = 512\n",
    "cv_types = ['diag']"
   ]
  },
  {
   "cell_type": "code",
   "execution_count": 5,
   "metadata": {},
   "outputs": [],
   "source": [
    "def compute_frequency_spectrum(freq):\n",
    "    num_samples = len(freq)\n",
    "    freq = freq - np.mean(freq)\n",
    "    window = get_window(fft_window_name, num_samples)\n",
    "    fft_data = ((rfft(window*freq)))\n",
    "    return fft_data"
   ]
  },
  {
   "cell_type": "code",
   "execution_count": 6,
   "metadata": {},
   "outputs": [],
   "source": [
    "def compute_welch_spectrum(freq):\n",
    "    freq = freq - np.mean(freq)\n",
    "    return welch(freq, nperseg=cepstrum_window_size , \\\n",
    "      noverlap=3*cepstrum_window_size//4 , scaling = 'spectrum',window='hann')[1]"
   ]
  },
  {
   "cell_type": "code",
   "execution_count": 7,
   "metadata": {},
   "outputs": [],
   "source": [
    "def train_cepstrum(data_dir,rbw):\n",
    "    dataset_name = str.split(data_dir, '/')[1]\n",
    "    recording_name = str.split(data_dir,'/')[-1]\n",
    "    sample_rate = get_xhdr_sample_rate(data_dir)\n",
    "    weights_dir = \"_\".join((dataset_name, str(rbw)))\n",
    "    weights_path = os.path.join(namespace.weights_path, weights_dir)\n",
    "\n",
    "    iq_data = load_raw_data(data_dir)\n",
    "    iq_data = trim_iq_basic_block(iq_data , sample_rate)\n",
    "    freqs, time, fft_train = compute_fft_train_data(iq_data,sample_rate,rbw,weights_path)\n",
    "    cepstrum_train = np.abs(np.apply_along_axis(compute_welch_spectrum,0,fft_train))\n",
    "    cepstrum_train = cepstrum_train[50:] # removing the zero frequency\n",
    "    cepstrum_train_means_over_time = np.mean(cepstrum_train,axis=1)\n",
    "    cepstrum_windows = view_as_windows(cepstrum_train_means_over_time,median_kernel_size,step=1)\n",
    "    cepstrum_train_max = np.max(cepstrum_train_means_over_time)\n",
    "    persist_object(cepstrum_train_max,os.path.join(weights_path,'cepstrum_max.pkl'))\n",
    "    persist_object(cepstrum_train_means_over_time,os.path.join(weights_path,'cepstrum_train_means.pkl'))"
   ]
  },
  {
   "cell_type": "code",
   "execution_count": 8,
   "metadata": {},
   "outputs": [],
   "source": [
    "def test_cepstrum(data_dir,rbw):\n",
    "    sample_rate = get_xhdr_sample_rate(data_dir)\n",
    "    dataset_name = str.split(data_dir, '/')[1]\n",
    "    recording_name = str.split(data_dir,'/')[-1]\n",
    "    weights_dir = \"_\".join((dataset_name, str(rbw)))\n",
    "    weights_path = os.path.join(namespace.weights_path, weights_dir)\n",
    "    \n",
    "    iq_data = load_raw_data(data_dir)\n",
    "    iq_data = trim_iq_basic_block(iq_data , sample_rate)\n",
    "    test_freqs, test_time, fft_test = compute_fft_test_data(iq_data,sample_rate,rbw,weights_path)\n",
    "    cepstrum_test = np.abs(np.apply_along_axis(compute_welch_spectrum,0,fft_test))\n",
    "    cepstrum_test = cepstrum_test[50:] # removing the zero frequency\n",
    "    cepstrum_test_means_over_time = np.mean(cepstrum_test,axis=1)\n",
    "    cepstrum_train_max = load_object(os.path.join(weights_path,'cepstrum_max.pkl'))\n",
    "    cepstrum_train_means_over_time = load_object(os.path.join(weights_path,'cepstrum_train_means.pkl'))\n",
    "    \n",
    "    cepstrum_windows = view_as_windows(cepstrum_test_means_over_time,median_kernel_size,step=1)\n",
    "    \n",
    "    fig , (ax1 , ax2) = plt.subplots(1,2,sharey=True,figsize=(20,15))\n",
    "    ax1.axhline(cepstrum_train_max)\n",
    "    ax1.plot(cepstrum_test_means_over_time)\n",
    "    ax1.set_title('Test cepstrum',fontsize=30)\n",
    "    ax2.axhline(cepstrum_train_max)\n",
    "    ax2.plot(cepstrum_train_means_over_time)\n",
    "    ax2.set_title('Train cepstrum' , fontsize=30)\n",
    "    plot_save_path = os.path.join(data_dir , \"cepstrum_welch_window={}_interval={}.png\".\\\n",
    "                                  format(cepstrum_window_size,basic_block_interval))\n",
    "    plt.savefig(plot_save_path)"
   ]
  },
  {
   "cell_type": "code",
   "execution_count": null,
   "metadata": {},
   "outputs": [],
   "source": [
    "if train:\n",
    "    data_dir = namespace.data_dir\n",
    "    for rbw in rbw_set:\n",
    "        train_cepstrum(data_dir,rbw)\n",
    "else:\n",
    "    #Case we evaluate on set of fixed test sets\n",
    "    if not namespace.data_dir:\n",
    "        for r in normal_records:\n",
    "            data_dir = os.path.join(normal_path, r)\n",
    "            for rbw in rbw_set:\n",
    "                test_cepstrum(data_dir,rbw)\n",
    "                \n",
    "        for r in anomal_records:\n",
    "            data_dir = os.path.join(anomal_path,r)\n",
    "            f_s = get_xhdr_sample_rate(data_dir)\n",
    "            for rbw in rbw_set:\n",
    "                test_cepstrum(data_dir,rbw)\n",
    "    else:\n",
    "        data_dir = namespace.data_dir\n",
    "        assert len(data_dir) != 0\n",
    "        for rbw in rbw_set:\n",
    "            test_cepstrum(data_dir,rbw)"
   ]
  },
  {
   "cell_type": "markdown",
   "metadata": {},
   "source": [
    "# Expriement"
   ]
  },
  {
   "cell_type": "code",
   "execution_count": null,
   "metadata": {},
   "outputs": [],
   "source": [
    "def compute_welch_spectrum(freq):\n",
    "    freq = freq - np.mean(freq)\n",
    "    return welch(freq, nperseg=512 , \\\n",
    "      noverlap = 3*512//4, scaling = 'spectrum',window='hann')[1]\n",
    "\n",
    "# sweep_freq = fft_train[:,250]\n",
    "# fig , (ax1 , ax2) = plt.subplots(2,1,figsize=(10,10))\n",
    "# cepstrum_sample_plot_path = os.path.join(data_dir,\"cepstrum_sample.png\")\n",
    "# ax1.plot(sweep_freq)\n",
    "# ax1.set_title('Sweep frequency plot')\n",
    "# ax2.plot(np.abs(compute_welch_spectrum(sweep_freq)))\n",
    "# ax2.set_title('fft of frequency')\n",
    "# plt.show()"
   ]
  },
  {
   "cell_type": "code",
   "execution_count": 10,
   "metadata": {},
   "outputs": [],
   "source": [
    "data_dir = 'iq_data/CELL/normal/CELL_NORM_0'\n",
    "rbw=125e3\n",
    "dataset_name = str.split(data_dir, '/')[1]\n",
    "recording_name = str.split(data_dir,'/')[-1]\n",
    "sample_rate = get_xhdr_sample_rate(data_dir)\n",
    "weights_dir = \"_\".join((dataset_name, str(rbw)))\n",
    "weights_path = os.path.join(namespace.weights_path, weights_dir)\n",
    "\n",
    "iq_data = load_raw_data(data_dir)\n",
    "iq_data = trim_iq_basic_block(iq_data , sample_rate,basic_time=0.01)\n",
    "freqs, time, fft_train = compute_fft_train_data(iq_data,sample_rate,rbw,weights_path)\n"
   ]
  },
  {
   "cell_type": "code",
   "execution_count": null,
   "metadata": {},
   "outputs": [],
   "source": [
    "freqs_mean = np.mean(fft_train , axis=0)\n",
    "freqs_std = np.std(fft_train , axis=0)\n",
    "\n",
    "fft_train , freqs_mean = np.broadcast_arrays(fft_train , freqs_mean)\n",
    "fft_train , freqs_std = np.broadcast_arrays(fft_train , freqs_std)\n",
    "\n",
    "fft_train_white = (fft_train - freqs_mean) / freqs_std"
   ]
  },
  {
   "cell_type": "code",
   "execution_count": null,
   "metadata": {},
   "outputs": [],
   "source": [
    "fft_train_white = fft_train_white - np.mean(fft_train_white)"
   ]
  },
  {
   "cell_type": "code",
   "execution_count": null,
   "metadata": {},
   "outputs": [],
   "source": [
    "fft_train_2d = np.abs(fftshift(fft2(fft_train_white)))"
   ]
  },
  {
   "cell_type": "code",
   "execution_count": null,
   "metadata": {},
   "outputs": [],
   "source": [
    "f = plt.figure(figsize=(20,20))\n",
    "plt.imshow(fft_train_2d)"
   ]
  },
  {
   "cell_type": "code",
   "execution_count": null,
   "metadata": {},
   "outputs": [],
   "source": [
    "X, Y = np.meshgrid(range(fft_train_2d.shape[1]),range(fft_train_2d.shape[0]))"
   ]
  },
  {
   "cell_type": "code",
   "execution_count": null,
   "metadata": {},
   "outputs": [],
   "source": [
    "np.max(fft_train_2d)"
   ]
  },
  {
   "cell_type": "code",
   "execution_count": null,
   "metadata": {},
   "outputs": [],
   "source": [
    "from mpl_toolkits.mplot3d import Axes3D\n",
    "fig = plt.figure(figsize=(20,20))\n",
    "ax = fig.add_subplot(111, projection='3d')\n",
    "ax.plot_surface(X,Y,fft_train_2d)"
   ]
  },
  {
   "cell_type": "code",
   "execution_count": null,
   "metadata": {},
   "outputs": [],
   "source": []
  }
 ],
 "metadata": {
  "kernelspec": {
   "display_name": "Python 3",
   "language": "python",
   "name": "python3"
  },
  "language_info": {
   "codemirror_mode": {
    "name": "ipython",
    "version": 3
   },
   "file_extension": ".py",
   "mimetype": "text/x-python",
   "name": "python",
   "nbconvert_exporter": "python",
   "pygments_lexer": "ipython3",
   "version": "3.5.2"
  }
 },
 "nbformat": 4,
 "nbformat_minor": 2
}
